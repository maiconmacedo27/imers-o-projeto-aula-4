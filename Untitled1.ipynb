{
  "nbformat": 4,
  "nbformat_minor": 0,
  "metadata": {
    "colab": {
      "provenance": [],
      "authorship_tag": "ABX9TyPvhZFwdqD4NtuqrP9ZLX01",
      "include_colab_link": true
    },
    "kernelspec": {
      "name": "python3",
      "display_name": "Python 3"
    },
    "language_info": {
      "name": "python"
    }
  },
  "cells": [
    {
      "cell_type": "markdown",
      "metadata": {
        "id": "view-in-github",
        "colab_type": "text"
      },
      "source": [
        "<a href=\"https://colab.research.google.com/github/maiconmacedo27/imers-o-projeto-aula-4/blob/main/Untitled1.ipynb\" target=\"_parent\"><img src=\"https://colab.research.google.com/assets/colab-badge.svg\" alt=\"Open In Colab\"/></a>"
      ]
    },
    {
      "cell_type": "markdown",
      "source": [
        "Instalando SDK da google"
      ],
      "metadata": {
        "id": "P0lLeWn5b7k0"
      }
    },
    {
      "cell_type": "code",
      "execution_count": 2,
      "metadata": {
        "id": "SL5p1t_ibuKv"
      },
      "outputs": [],
      "source": [
        "!pip install -q -U google-generativeai"
      ]
    },
    {
      "cell_type": "code",
      "source": [
        "import google.generativeai as macedo\n",
        "\n",
        "GOOGLE_API_KEY='cole sua api key aqui'\n",
        "macedo.configure(api_key=GOOGLE_API_KEY)"
      ],
      "metadata": {
        "id": "q2cvMyKycqH6"
      },
      "execution_count": 78,
      "outputs": []
    },
    {
      "cell_type": "markdown",
      "source": [
        "listar os modelos disponíveis"
      ],
      "metadata": {
        "id": "fej67CQjdRkS"
      }
    },
    {
      "cell_type": "code",
      "source": [
        "for m in macedo.list_models():\n",
        "  if 'generateContent' in m.supported_generation_methods:\n",
        "    print(m.name)\n"
      ],
      "metadata": {
        "colab": {
          "base_uri": "https://localhost:8080/",
          "height": 139
        },
        "id": "elRX-M4xdZmR",
        "outputId": "a2e1b854-7a01-4661-a7cb-9bef70c14d0d"
      },
      "execution_count": 13,
      "outputs": [
        {
          "output_type": "stream",
          "name": "stdout",
          "text": [
            "models/gemini-1.0-pro\n",
            "models/gemini-1.0-pro-001\n",
            "models/gemini-1.0-pro-latest\n",
            "models/gemini-1.0-pro-vision-latest\n",
            "models/gemini-1.5-pro-latest\n",
            "models/gemini-pro\n",
            "models/gemini-pro-vision\n"
          ]
        }
      ]
    },
    {
      "cell_type": "code",
      "source": [
        "configuração_geração = {\n",
        "    'candidate_count': 1,\n",
        "    'temperature': 0.5,\n",
        "}"
      ],
      "metadata": {
        "id": "NhQ6DB0ggv1m"
      },
      "execution_count": 60,
      "outputs": []
    },
    {
      "cell_type": "code",
      "source": [
        "configuração_segurança ={\n",
        "    'idade': 'bloquear_nenhum',\n",
        "    'conteudo sexoal': 'bloquear_nenhum',\n",
        "    'odio': 'bloquear_nenhum',\n",
        "}"
      ],
      "metadata": {
        "id": "VaZxWYcLsAr4"
      },
      "execution_count": 63,
      "outputs": []
    },
    {
      "cell_type": "markdown",
      "source": [
        "inicializando o modelo"
      ],
      "metadata": {
        "id": "h7yoz1fDkyuR"
      }
    },
    {
      "cell_type": "code",
      "source": [
        "model = macedo.GenerativeModel(model_name='gemini-1.0-pro',\n",
        "                               generation_config=configuração_geração,)"
      ],
      "metadata": {
        "id": "lt411H1alhWJ"
      },
      "execution_count": 72,
      "outputs": []
    },
    {
      "cell_type": "markdown",
      "source": [],
      "metadata": {
        "id": "FsLRYyAvb6Ul"
      }
    },
    {
      "cell_type": "code",
      "source": [
        "response = model.generate_content('Uma grande analize de forma ampla.Me de ulgumas dicas.')\n",
        "print(response.text)"
      ],
      "metadata": {
        "colab": {
          "base_uri": "https://localhost:8080/",
          "height": 731
        },
        "id": "BDN59mytrG5S",
        "outputId": "e26ebc73-4a52-4912-e585-bf0680ba2f1e"
      },
      "execution_count": 65,
      "outputs": [
        {
          "output_type": "stream",
          "name": "stdout",
          "text": [
            "**Dicas para uma Análise Ampla**\n",
            "\n",
            "**1. Defina o Escopo e os Objetivos:**\n",
            "* Determine claramente o que você pretende analisar e por quê.\n",
            "* Estabeleça objetivos específicos e mensuráveis.\n",
            "\n",
            "**2. Colete Dados Abrangentes:**\n",
            "* Reúna dados de várias fontes, incluindo pesquisas, entrevistas, observações e registros.\n",
            "* Certifique-se de que os dados sejam confiáveis, relevantes e abrangentes.\n",
            "\n",
            "**3. Organize e Analise os Dados:**\n",
            "* Organize os dados em categorias e subcategorias lógicas.\n",
            "* Use técnicas analíticas quantitativas e qualitativas para identificar padrões, tendências e insights.\n",
            "\n",
            "**4. Interprete os Resultados:**\n",
            "* Tire conclusões com base nos dados analisados.\n",
            "* Suporte suas interpretações com evidências e raciocínio lógico.\n",
            "\n",
            "**5. Identifique Implicações e Recomendações:**\n",
            "* Determine as implicações dos resultados da análise.\n",
            "* Faça recomendações práticas e acionáveis com base nas descobertas.\n",
            "\n",
            "**6. Comunique os Resultados:**\n",
            "* Apresente os resultados da análise de forma clara e concisa.\n",
            "* Use gráficos, tabelas e outras ferramentas visuais para ilustrar os insights.\n",
            "\n",
            "**7. Considere Perspectivas Múltiplas:**\n",
            "* Procure entender diferentes perspectivas e pontos de vista sobre o assunto.\n",
            "* Evite vieses e garanta que a análise seja objetiva.\n",
            "\n",
            "**8. Use Ferramentas Tecnológicas:**\n",
            "* Aproveite as ferramentas tecnológicas, como software de análise de dados e ferramentas de visualização, para aprimorar a eficiência e a precisão da análise.\n",
            "\n",
            "**9. Revise e Reitere:**\n",
            "* Revise regularmente os resultados da análise e faça ajustes conforme necessário.\n",
            "* Acompanhe os resultados e reitere a análise para garantir que ela permaneça relevante e útil.\n",
            "\n",
            "**10. Colabore e Compartilhe:**\n",
            "* Colabore com outras pessoas envolvidas na análise para obter insights adicionais.\n",
            "* Compartilhe os resultados da análise com as partes interessadas relevantes para promover a compreensão e a tomada de decisão informada.\n"
          ]
        }
      ]
    },
    {
      "cell_type": "code",
      "source": [
        "Chat = model.start_chat(history=[])"
      ],
      "metadata": {
        "id": "KEItTD-Uu0Et"
      },
      "execution_count": 73,
      "outputs": []
    },
    {
      "cell_type": "code",
      "source": [
        "pronpt = input('aguardando o usuario')\n",
        "while pronpt != 'sair':\n",
        "  response = Chat.send_message(pronpt)\n",
        "  print(response.text)\n",
        "  pronpt = input('aguardando o usuario')"
      ],
      "metadata": {
        "id": "JPU5EyBsvcMt"
      },
      "execution_count": null,
      "outputs": []
    }
  ]
}